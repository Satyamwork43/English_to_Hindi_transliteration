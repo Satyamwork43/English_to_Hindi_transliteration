{
  "metadata": {
    "kernelspec": {
      "display_name": "Python 3",
      "language": "python",
      "name": "python3"
    },
    "language_info": {
      "name": "python",
      "version": "3.6.6",
      "mimetype": "text/x-python",
      "codemirror_mode": {
        "name": "ipython",
        "version": 3
      },
      "pygments_lexer": "ipython3",
      "nbconvert_exporter": "python",
      "file_extension": ".py"
    },
    "colab": {
      "provenance": [],
      "machine_shape": "hm"
    },
    "accelerator": "GPU",
    "gpuClass": "standard"
  },
  "nbformat_minor": 0,
  "nbformat": 4,
  "cells": [
    {
      "cell_type": "code",
      "source": [
        "import xml.etree.ElementTree as Xet\n",
        "import pandas as pd\n",
        "\n",
        "cols = [\"English\", \"Hindi\"]\n",
        "rows = []\n",
        "\n",
        "xmlparse = Xet.parse('/content/NEWS2018_M-EnHi_trn.xml')\n",
        "root = xmlparse.getroot()\n",
        "for i in root:\n",
        "  english = i.find(\"SourceName\").text\n",
        "  hindi = i.find(\"TargetName\").text\n",
        "\n",
        "  rows.append({\"English\": english,\n",
        "    \"Hindi\": hindi\n",
        "    })\n",
        "\n",
        "df = pd.DataFrame(rows, columns=cols)"
      ],
      "metadata": {
        "id": "vQo9l3GSpRg0"
      },
      "execution_count": 1,
      "outputs": []
    },
    {
      "cell_type": "code",
      "source": [
        "import os\n",
        "import string\n",
        "from string import digits\n",
        "import matplotlib.pyplot as plt\n",
        "%matplotlib inline\n",
        "import re\n",
        "\n",
        "import seaborn as sns\n",
        "from sklearn.utils import shuffle\n",
        "from sklearn.model_selection import train_test_split\n",
        "from keras.layers import Input, LSTM, Embedding, Dense\n",
        "from keras.models import Model"
      ],
      "metadata": {
        "_uuid": "8f2839f25d086af736a60e9eeb907d3b93b6e0e5",
        "_cell_guid": "b1076dfc-b9ad-4769-8c92-a6c4dae69d19",
        "execution": {
          "iopub.status.busy": "2022-09-13T08:04:27.629942Z",
          "iopub.execute_input": "2022-09-13T08:04:27.630250Z",
          "iopub.status.idle": "2022-09-13T08:04:29.767761Z",
          "shell.execute_reply.started": "2022-09-13T08:04:27.630208Z",
          "shell.execute_reply": "2022-09-13T08:04:29.766981Z"
        },
        "trusted": true,
        "id": "IuRuGMSVo72V"
      },
      "execution_count": 2,
      "outputs": []
    },
    {
      "cell_type": "code",
      "source": [
        "df.drop_duplicates(inplace=True)"
      ],
      "metadata": {
        "execution": {
          "iopub.status.busy": "2022-09-13T08:04:41.033247Z",
          "iopub.execute_input": "2022-09-13T08:04:41.033569Z",
          "iopub.status.idle": "2022-09-13T08:04:41.050168Z",
          "shell.execute_reply.started": "2022-09-13T08:04:41.033512Z",
          "shell.execute_reply": "2022-09-13T08:04:41.049579Z"
        },
        "trusted": true,
        "id": "VQf7hXbyo72Y"
      },
      "execution_count": 3,
      "outputs": []
    },
    {
      "cell_type": "code",
      "source": [
        "df['english_sentence']=df['English'].apply(lambda x: x.lower())\n",
        "df['hindi_sentence']=df['Hindi'].apply(lambda x: x.lower())"
      ],
      "metadata": {
        "execution": {
          "iopub.status.busy": "2022-09-13T08:04:44.800074Z",
          "iopub.execute_input": "2022-09-13T08:04:44.800369Z",
          "iopub.status.idle": "2022-09-13T08:04:44.820157Z",
          "shell.execute_reply.started": "2022-09-13T08:04:44.800315Z",
          "shell.execute_reply": "2022-09-13T08:04:44.819558Z"
        },
        "trusted": true,
        "id": "F53l4ZGOo72Z"
      },
      "execution_count": 4,
      "outputs": []
    },
    {
      "cell_type": "code",
      "source": [
        "df['english_sentence']=df['english_sentence'].apply(lambda x: re.sub(\"'\", '', x))\n",
        "df['hindi_sentence']=df['hindi_sentence'].apply(lambda x: re.sub(\"'\", '', x))"
      ],
      "metadata": {
        "execution": {
          "iopub.status.busy": "2022-09-13T08:04:45.007824Z",
          "iopub.execute_input": "2022-09-13T08:04:45.008098Z",
          "iopub.status.idle": "2022-09-13T08:04:45.045291Z",
          "shell.execute_reply.started": "2022-09-13T08:04:45.008048Z",
          "shell.execute_reply": "2022-09-13T08:04:45.044571Z"
        },
        "trusted": true,
        "id": "vuTcL_Q6o72Z"
      },
      "execution_count": 5,
      "outputs": []
    },
    {
      "cell_type": "code",
      "source": [
        "exclude = set(string.punctuation)\n",
        "df['english_sentence']=df['english_sentence'].apply(lambda x: ''.join(ch for ch in x if ch not in exclude))\n",
        "df['hindi_sentence']=df['hindi_sentence'].apply(lambda x: ''.join(ch for ch in x if ch not in exclude))"
      ],
      "metadata": {
        "execution": {
          "iopub.status.busy": "2022-09-13T08:04:45.169605Z",
          "iopub.execute_input": "2022-09-13T08:04:45.169841Z",
          "iopub.status.idle": "2022-09-13T08:04:45.228609Z",
          "shell.execute_reply.started": "2022-09-13T08:04:45.169795Z",
          "shell.execute_reply": "2022-09-13T08:04:45.227998Z"
        },
        "trusted": true,
        "id": "Ltw5hnp5o72a"
      },
      "execution_count": 6,
      "outputs": []
    },
    {
      "cell_type": "code",
      "source": [
        "remove_digits = str.maketrans('', '', digits)\n",
        "df['english_sentence']=df['english_sentence'].apply(lambda x: x.translate(remove_digits))\n",
        "df['hindi_sentence']=df['hindi_sentence'].apply(lambda x: x.translate(remove_digits))\n",
        "\n",
        "df['hindi_sentence'] = df['hindi_sentence'].apply(lambda x: re.sub(\"[२३०८१५७९४६]\", \"\", x))\n",
        "\n",
        "df['english_sentence']=df['english_sentence'].apply(lambda x: x.strip())\n",
        "df['hindi_sentence']=df['hindi_sentence'].apply(lambda x: x.strip())\n",
        "df['english_sentence']=df['english_sentence'].apply(lambda x: re.sub(\" +\", \" \", x))\n",
        "df['hindi_sentence']=df['hindi_sentence'].apply(lambda x: re.sub(\" +\", \" \", x))\n"
      ],
      "metadata": {
        "execution": {
          "iopub.status.busy": "2022-09-13T08:04:45.342936Z",
          "iopub.execute_input": "2022-09-13T08:04:45.343164Z",
          "iopub.status.idle": "2022-09-13T08:04:45.442756Z",
          "shell.execute_reply.started": "2022-09-13T08:04:45.343116Z",
          "shell.execute_reply": "2022-09-13T08:04:45.442108Z"
        },
        "trusted": true,
        "id": "gSgqIqBLo72a"
      },
      "execution_count": 7,
      "outputs": []
    },
    {
      "cell_type": "code",
      "source": [
        "df['hindi_sentence'] = df['hindi_sentence'].apply(lambda x : 'START_ '+ x + ' _END')"
      ],
      "metadata": {
        "execution": {
          "iopub.status.busy": "2022-09-13T08:04:45.542125Z",
          "iopub.execute_input": "2022-09-13T08:04:45.542370Z",
          "iopub.status.idle": "2022-09-13T08:04:45.551059Z",
          "shell.execute_reply.started": "2022-09-13T08:04:45.542320Z",
          "shell.execute_reply": "2022-09-13T08:04:45.550024Z"
        },
        "trusted": true,
        "id": "-sbgQT98o72h"
      },
      "execution_count": 8,
      "outputs": []
    },
    {
      "cell_type": "code",
      "source": [
        "df.head()"
      ],
      "metadata": {
        "execution": {
          "iopub.status.busy": "2022-09-13T08:04:45.722358Z",
          "iopub.execute_input": "2022-09-13T08:04:45.722645Z",
          "iopub.status.idle": "2022-09-13T08:04:45.742022Z",
          "shell.execute_reply.started": "2022-09-13T08:04:45.722594Z",
          "shell.execute_reply": "2022-09-13T08:04:45.741429Z"
        },
        "trusted": true,
        "colab": {
          "base_uri": "https://localhost:8080/",
          "height": 206
        },
        "id": "QfSUAOULo72h",
        "outputId": "7cd127d9-0976-4072-b18e-d3a0b8b82fe3"
      },
      "execution_count": 9,
      "outputs": [
        {
          "output_type": "execute_result",
          "data": {
            "text/plain": [
              "     English   Hindi english_sentence      hindi_sentence\n",
              "0     aabhaa     आभा           aabhaa     START_ आभा _END\n",
              "1    aabheer    आभीर          aabheer    START_ आभीर _END\n",
              "2  aabhijaat  आभिजात        aabhijaat  START_ आभिजात _END\n",
              "3      aabid    आबिद            aabid    START_ आबिद _END\n",
              "4    aabshar    आबशर          aabshar    START_ आबशर _END"
            ],
            "text/html": [
              "\n",
              "  <div id=\"df-fb857a17-2bce-4614-8777-159ba622f41f\">\n",
              "    <div class=\"colab-df-container\">\n",
              "      <div>\n",
              "<style scoped>\n",
              "    .dataframe tbody tr th:only-of-type {\n",
              "        vertical-align: middle;\n",
              "    }\n",
              "\n",
              "    .dataframe tbody tr th {\n",
              "        vertical-align: top;\n",
              "    }\n",
              "\n",
              "    .dataframe thead th {\n",
              "        text-align: right;\n",
              "    }\n",
              "</style>\n",
              "<table border=\"1\" class=\"dataframe\">\n",
              "  <thead>\n",
              "    <tr style=\"text-align: right;\">\n",
              "      <th></th>\n",
              "      <th>English</th>\n",
              "      <th>Hindi</th>\n",
              "      <th>english_sentence</th>\n",
              "      <th>hindi_sentence</th>\n",
              "    </tr>\n",
              "  </thead>\n",
              "  <tbody>\n",
              "    <tr>\n",
              "      <th>0</th>\n",
              "      <td>aabhaa</td>\n",
              "      <td>आभा</td>\n",
              "      <td>aabhaa</td>\n",
              "      <td>START_ आभा _END</td>\n",
              "    </tr>\n",
              "    <tr>\n",
              "      <th>1</th>\n",
              "      <td>aabheer</td>\n",
              "      <td>आभीर</td>\n",
              "      <td>aabheer</td>\n",
              "      <td>START_ आभीर _END</td>\n",
              "    </tr>\n",
              "    <tr>\n",
              "      <th>2</th>\n",
              "      <td>aabhijaat</td>\n",
              "      <td>आभिजात</td>\n",
              "      <td>aabhijaat</td>\n",
              "      <td>START_ आभिजात _END</td>\n",
              "    </tr>\n",
              "    <tr>\n",
              "      <th>3</th>\n",
              "      <td>aabid</td>\n",
              "      <td>आबिद</td>\n",
              "      <td>aabid</td>\n",
              "      <td>START_ आबिद _END</td>\n",
              "    </tr>\n",
              "    <tr>\n",
              "      <th>4</th>\n",
              "      <td>aabshar</td>\n",
              "      <td>आबशर</td>\n",
              "      <td>aabshar</td>\n",
              "      <td>START_ आबशर _END</td>\n",
              "    </tr>\n",
              "  </tbody>\n",
              "</table>\n",
              "</div>\n",
              "      <button class=\"colab-df-convert\" onclick=\"convertToInteractive('df-fb857a17-2bce-4614-8777-159ba622f41f')\"\n",
              "              title=\"Convert this dataframe to an interactive table.\"\n",
              "              style=\"display:none;\">\n",
              "        \n",
              "  <svg xmlns=\"http://www.w3.org/2000/svg\" height=\"24px\"viewBox=\"0 0 24 24\"\n",
              "       width=\"24px\">\n",
              "    <path d=\"M0 0h24v24H0V0z\" fill=\"none\"/>\n",
              "    <path d=\"M18.56 5.44l.94 2.06.94-2.06 2.06-.94-2.06-.94-.94-2.06-.94 2.06-2.06.94zm-11 1L8.5 8.5l.94-2.06 2.06-.94-2.06-.94L8.5 2.5l-.94 2.06-2.06.94zm10 10l.94 2.06.94-2.06 2.06-.94-2.06-.94-.94-2.06-.94 2.06-2.06.94z\"/><path d=\"M17.41 7.96l-1.37-1.37c-.4-.4-.92-.59-1.43-.59-.52 0-1.04.2-1.43.59L10.3 9.45l-7.72 7.72c-.78.78-.78 2.05 0 2.83L4 21.41c.39.39.9.59 1.41.59.51 0 1.02-.2 1.41-.59l7.78-7.78 2.81-2.81c.8-.78.8-2.07 0-2.86zM5.41 20L4 18.59l7.72-7.72 1.47 1.35L5.41 20z\"/>\n",
              "  </svg>\n",
              "      </button>\n",
              "      \n",
              "  <style>\n",
              "    .colab-df-container {\n",
              "      display:flex;\n",
              "      flex-wrap:wrap;\n",
              "      gap: 12px;\n",
              "    }\n",
              "\n",
              "    .colab-df-convert {\n",
              "      background-color: #E8F0FE;\n",
              "      border: none;\n",
              "      border-radius: 50%;\n",
              "      cursor: pointer;\n",
              "      display: none;\n",
              "      fill: #1967D2;\n",
              "      height: 32px;\n",
              "      padding: 0 0 0 0;\n",
              "      width: 32px;\n",
              "    }\n",
              "\n",
              "    .colab-df-convert:hover {\n",
              "      background-color: #E2EBFA;\n",
              "      box-shadow: 0px 1px 2px rgba(60, 64, 67, 0.3), 0px 1px 3px 1px rgba(60, 64, 67, 0.15);\n",
              "      fill: #174EA6;\n",
              "    }\n",
              "\n",
              "    [theme=dark] .colab-df-convert {\n",
              "      background-color: #3B4455;\n",
              "      fill: #D2E3FC;\n",
              "    }\n",
              "\n",
              "    [theme=dark] .colab-df-convert:hover {\n",
              "      background-color: #434B5C;\n",
              "      box-shadow: 0px 1px 3px 1px rgba(0, 0, 0, 0.15);\n",
              "      filter: drop-shadow(0px 1px 2px rgba(0, 0, 0, 0.3));\n",
              "      fill: #FFFFFF;\n",
              "    }\n",
              "  </style>\n",
              "\n",
              "      <script>\n",
              "        const buttonEl =\n",
              "          document.querySelector('#df-fb857a17-2bce-4614-8777-159ba622f41f button.colab-df-convert');\n",
              "        buttonEl.style.display =\n",
              "          google.colab.kernel.accessAllowed ? 'block' : 'none';\n",
              "\n",
              "        async function convertToInteractive(key) {\n",
              "          const element = document.querySelector('#df-fb857a17-2bce-4614-8777-159ba622f41f');\n",
              "          const dataTable =\n",
              "            await google.colab.kernel.invokeFunction('convertToInteractive',\n",
              "                                                     [key], {});\n",
              "          if (!dataTable) return;\n",
              "\n",
              "          const docLinkHtml = 'Like what you see? Visit the ' +\n",
              "            '<a target=\"_blank\" href=https://colab.research.google.com/notebooks/data_table.ipynb>data table notebook</a>'\n",
              "            + ' to learn more about interactive tables.';\n",
              "          element.innerHTML = '';\n",
              "          dataTable['output_type'] = 'display_data';\n",
              "          await google.colab.output.renderOutput(dataTable, element);\n",
              "          const docLink = document.createElement('div');\n",
              "          docLink.innerHTML = docLinkHtml;\n",
              "          element.appendChild(docLink);\n",
              "        }\n",
              "      </script>\n",
              "    </div>\n",
              "  </div>\n",
              "  "
            ]
          },
          "metadata": {},
          "execution_count": 9
        }
      ]
    },
    {
      "cell_type": "code",
      "source": [
        "### Get English and Hindi Vocabulary\n",
        "all_eng_words=set()\n",
        "for eng in df['english_sentence']:\n",
        "    for word in eng.split():\n",
        "        if word not in all_eng_words:\n",
        "            all_eng_words.add(word)\n",
        "\n",
        "all_hindi_words=set()\n",
        "for hin in df['hindi_sentence']:\n",
        "    for word in hin.split():\n",
        "        if word not in all_hindi_words:\n",
        "            all_hindi_words.add(word)"
      ],
      "metadata": {
        "execution": {
          "iopub.status.busy": "2022-09-13T08:04:45.887883Z",
          "iopub.execute_input": "2022-09-13T08:04:45.888102Z",
          "iopub.status.idle": "2022-09-13T08:04:45.915768Z",
          "shell.execute_reply.started": "2022-09-13T08:04:45.888056Z",
          "shell.execute_reply": "2022-09-13T08:04:45.915182Z"
        },
        "trusted": true,
        "id": "DYKZop_do72h"
      },
      "execution_count": 10,
      "outputs": []
    },
    {
      "cell_type": "code",
      "source": [
        "len(all_eng_words)"
      ],
      "metadata": {
        "execution": {
          "iopub.status.busy": "2022-09-13T08:04:46.087690Z",
          "iopub.execute_input": "2022-09-13T08:04:46.087927Z",
          "iopub.status.idle": "2022-09-13T08:04:46.093492Z",
          "shell.execute_reply.started": "2022-09-13T08:04:46.087869Z",
          "shell.execute_reply": "2022-09-13T08:04:46.092439Z"
        },
        "trusted": true,
        "colab": {
          "base_uri": "https://localhost:8080/"
        },
        "id": "zvSd8SKro72i",
        "outputId": "aaac79de-3d87-4357-871c-6ef88d25f3b6"
      },
      "execution_count": 11,
      "outputs": [
        {
          "output_type": "execute_result",
          "data": {
            "text/plain": [
              "13406"
            ]
          },
          "metadata": {},
          "execution_count": 11
        }
      ]
    },
    {
      "cell_type": "code",
      "source": [
        "len(all_hindi_words)"
      ],
      "metadata": {
        "execution": {
          "iopub.status.busy": "2022-09-13T08:04:46.277755Z",
          "iopub.execute_input": "2022-09-13T08:04:46.277984Z",
          "iopub.status.idle": "2022-09-13T08:04:46.282862Z",
          "shell.execute_reply.started": "2022-09-13T08:04:46.277936Z",
          "shell.execute_reply": "2022-09-13T08:04:46.282033Z"
        },
        "trusted": true,
        "colab": {
          "base_uri": "https://localhost:8080/"
        },
        "id": "riG6tNU2o72i",
        "outputId": "b6a70bbb-a841-46fd-8458-6c1fd846a217"
      },
      "execution_count": 12,
      "outputs": [
        {
          "output_type": "execute_result",
          "data": {
            "text/plain": [
              "12971"
            ]
          },
          "metadata": {},
          "execution_count": 12
        }
      ]
    },
    {
      "cell_type": "code",
      "source": [
        "df['length_eng_sentence']=df['english_sentence'].apply(lambda x:len(x.split(\" \")))\n",
        "df['length_hin_sentence']=df['hindi_sentence'].apply(lambda x:len(x.split(\" \")))"
      ],
      "metadata": {
        "execution": {
          "iopub.status.busy": "2022-09-13T08:04:47.149548Z",
          "iopub.execute_input": "2022-09-13T08:04:47.150189Z",
          "iopub.status.idle": "2022-09-13T08:04:47.175563Z",
          "shell.execute_reply.started": "2022-09-13T08:04:47.150134Z",
          "shell.execute_reply": "2022-09-13T08:04:47.174938Z"
        },
        "trusted": true,
        "id": "Bja2rvz2o72i"
      },
      "execution_count": 13,
      "outputs": []
    },
    {
      "cell_type": "code",
      "source": [
        "df.head()"
      ],
      "metadata": {
        "execution": {
          "iopub.status.busy": "2022-09-13T08:04:47.177315Z",
          "iopub.execute_input": "2022-09-13T08:04:47.177821Z",
          "iopub.status.idle": "2022-09-13T08:04:47.191338Z",
          "shell.execute_reply.started": "2022-09-13T08:04:47.177769Z",
          "shell.execute_reply": "2022-09-13T08:04:47.190329Z"
        },
        "trusted": true,
        "colab": {
          "base_uri": "https://localhost:8080/",
          "height": 206
        },
        "id": "TSGWYjACo72j",
        "outputId": "c8bbf4fe-ba43-47e2-a7ae-fb195c9df0b9"
      },
      "execution_count": 14,
      "outputs": [
        {
          "output_type": "execute_result",
          "data": {
            "text/plain": [
              "     English   Hindi english_sentence      hindi_sentence  \\\n",
              "0     aabhaa     आभा           aabhaa     START_ आभा _END   \n",
              "1    aabheer    आभीर          aabheer    START_ आभीर _END   \n",
              "2  aabhijaat  आभिजात        aabhijaat  START_ आभिजात _END   \n",
              "3      aabid    आबिद            aabid    START_ आबिद _END   \n",
              "4    aabshar    आबशर          aabshar    START_ आबशर _END   \n",
              "\n",
              "   length_eng_sentence  length_hin_sentence  \n",
              "0                    1                    3  \n",
              "1                    1                    3  \n",
              "2                    1                    3  \n",
              "3                    1                    3  \n",
              "4                    1                    3  "
            ],
            "text/html": [
              "\n",
              "  <div id=\"df-df224cd1-04cd-482f-9b0b-b8e42a5e65a9\">\n",
              "    <div class=\"colab-df-container\">\n",
              "      <div>\n",
              "<style scoped>\n",
              "    .dataframe tbody tr th:only-of-type {\n",
              "        vertical-align: middle;\n",
              "    }\n",
              "\n",
              "    .dataframe tbody tr th {\n",
              "        vertical-align: top;\n",
              "    }\n",
              "\n",
              "    .dataframe thead th {\n",
              "        text-align: right;\n",
              "    }\n",
              "</style>\n",
              "<table border=\"1\" class=\"dataframe\">\n",
              "  <thead>\n",
              "    <tr style=\"text-align: right;\">\n",
              "      <th></th>\n",
              "      <th>English</th>\n",
              "      <th>Hindi</th>\n",
              "      <th>english_sentence</th>\n",
              "      <th>hindi_sentence</th>\n",
              "      <th>length_eng_sentence</th>\n",
              "      <th>length_hin_sentence</th>\n",
              "    </tr>\n",
              "  </thead>\n",
              "  <tbody>\n",
              "    <tr>\n",
              "      <th>0</th>\n",
              "      <td>aabhaa</td>\n",
              "      <td>आभा</td>\n",
              "      <td>aabhaa</td>\n",
              "      <td>START_ आभा _END</td>\n",
              "      <td>1</td>\n",
              "      <td>3</td>\n",
              "    </tr>\n",
              "    <tr>\n",
              "      <th>1</th>\n",
              "      <td>aabheer</td>\n",
              "      <td>आभीर</td>\n",
              "      <td>aabheer</td>\n",
              "      <td>START_ आभीर _END</td>\n",
              "      <td>1</td>\n",
              "      <td>3</td>\n",
              "    </tr>\n",
              "    <tr>\n",
              "      <th>2</th>\n",
              "      <td>aabhijaat</td>\n",
              "      <td>आभिजात</td>\n",
              "      <td>aabhijaat</td>\n",
              "      <td>START_ आभिजात _END</td>\n",
              "      <td>1</td>\n",
              "      <td>3</td>\n",
              "    </tr>\n",
              "    <tr>\n",
              "      <th>3</th>\n",
              "      <td>aabid</td>\n",
              "      <td>आबिद</td>\n",
              "      <td>aabid</td>\n",
              "      <td>START_ आबिद _END</td>\n",
              "      <td>1</td>\n",
              "      <td>3</td>\n",
              "    </tr>\n",
              "    <tr>\n",
              "      <th>4</th>\n",
              "      <td>aabshar</td>\n",
              "      <td>आबशर</td>\n",
              "      <td>aabshar</td>\n",
              "      <td>START_ आबशर _END</td>\n",
              "      <td>1</td>\n",
              "      <td>3</td>\n",
              "    </tr>\n",
              "  </tbody>\n",
              "</table>\n",
              "</div>\n",
              "      <button class=\"colab-df-convert\" onclick=\"convertToInteractive('df-df224cd1-04cd-482f-9b0b-b8e42a5e65a9')\"\n",
              "              title=\"Convert this dataframe to an interactive table.\"\n",
              "              style=\"display:none;\">\n",
              "        \n",
              "  <svg xmlns=\"http://www.w3.org/2000/svg\" height=\"24px\"viewBox=\"0 0 24 24\"\n",
              "       width=\"24px\">\n",
              "    <path d=\"M0 0h24v24H0V0z\" fill=\"none\"/>\n",
              "    <path d=\"M18.56 5.44l.94 2.06.94-2.06 2.06-.94-2.06-.94-.94-2.06-.94 2.06-2.06.94zm-11 1L8.5 8.5l.94-2.06 2.06-.94-2.06-.94L8.5 2.5l-.94 2.06-2.06.94zm10 10l.94 2.06.94-2.06 2.06-.94-2.06-.94-.94-2.06-.94 2.06-2.06.94z\"/><path d=\"M17.41 7.96l-1.37-1.37c-.4-.4-.92-.59-1.43-.59-.52 0-1.04.2-1.43.59L10.3 9.45l-7.72 7.72c-.78.78-.78 2.05 0 2.83L4 21.41c.39.39.9.59 1.41.59.51 0 1.02-.2 1.41-.59l7.78-7.78 2.81-2.81c.8-.78.8-2.07 0-2.86zM5.41 20L4 18.59l7.72-7.72 1.47 1.35L5.41 20z\"/>\n",
              "  </svg>\n",
              "      </button>\n",
              "      \n",
              "  <style>\n",
              "    .colab-df-container {\n",
              "      display:flex;\n",
              "      flex-wrap:wrap;\n",
              "      gap: 12px;\n",
              "    }\n",
              "\n",
              "    .colab-df-convert {\n",
              "      background-color: #E8F0FE;\n",
              "      border: none;\n",
              "      border-radius: 50%;\n",
              "      cursor: pointer;\n",
              "      display: none;\n",
              "      fill: #1967D2;\n",
              "      height: 32px;\n",
              "      padding: 0 0 0 0;\n",
              "      width: 32px;\n",
              "    }\n",
              "\n",
              "    .colab-df-convert:hover {\n",
              "      background-color: #E2EBFA;\n",
              "      box-shadow: 0px 1px 2px rgba(60, 64, 67, 0.3), 0px 1px 3px 1px rgba(60, 64, 67, 0.15);\n",
              "      fill: #174EA6;\n",
              "    }\n",
              "\n",
              "    [theme=dark] .colab-df-convert {\n",
              "      background-color: #3B4455;\n",
              "      fill: #D2E3FC;\n",
              "    }\n",
              "\n",
              "    [theme=dark] .colab-df-convert:hover {\n",
              "      background-color: #434B5C;\n",
              "      box-shadow: 0px 1px 3px 1px rgba(0, 0, 0, 0.15);\n",
              "      filter: drop-shadow(0px 1px 2px rgba(0, 0, 0, 0.3));\n",
              "      fill: #FFFFFF;\n",
              "    }\n",
              "  </style>\n",
              "\n",
              "      <script>\n",
              "        const buttonEl =\n",
              "          document.querySelector('#df-df224cd1-04cd-482f-9b0b-b8e42a5e65a9 button.colab-df-convert');\n",
              "        buttonEl.style.display =\n",
              "          google.colab.kernel.accessAllowed ? 'block' : 'none';\n",
              "\n",
              "        async function convertToInteractive(key) {\n",
              "          const element = document.querySelector('#df-df224cd1-04cd-482f-9b0b-b8e42a5e65a9');\n",
              "          const dataTable =\n",
              "            await google.colab.kernel.invokeFunction('convertToInteractive',\n",
              "                                                     [key], {});\n",
              "          if (!dataTable) return;\n",
              "\n",
              "          const docLinkHtml = 'Like what you see? Visit the ' +\n",
              "            '<a target=\"_blank\" href=https://colab.research.google.com/notebooks/data_table.ipynb>data table notebook</a>'\n",
              "            + ' to learn more about interactive tables.';\n",
              "          element.innerHTML = '';\n",
              "          dataTable['output_type'] = 'display_data';\n",
              "          await google.colab.output.renderOutput(dataTable, element);\n",
              "          const docLink = document.createElement('div');\n",
              "          docLink.innerHTML = docLinkHtml;\n",
              "          element.appendChild(docLink);\n",
              "        }\n",
              "      </script>\n",
              "    </div>\n",
              "  </div>\n",
              "  "
            ]
          },
          "metadata": {},
          "execution_count": 14
        }
      ]
    },
    {
      "cell_type": "code",
      "source": [
        "df.shape"
      ],
      "metadata": {
        "execution": {
          "iopub.status.busy": "2022-09-13T08:04:47.251415Z",
          "iopub.execute_input": "2022-09-13T08:04:47.251668Z",
          "iopub.status.idle": "2022-09-13T08:04:47.258717Z",
          "shell.execute_reply.started": "2022-09-13T08:04:47.251622Z",
          "shell.execute_reply": "2022-09-13T08:04:47.257772Z"
        },
        "trusted": true,
        "colab": {
          "base_uri": "https://localhost:8080/"
        },
        "id": "VxH7E2Sko72k",
        "outputId": "03725e46-998d-4005-bc96-cc69f0fea25a"
      },
      "execution_count": 15,
      "outputs": [
        {
          "output_type": "execute_result",
          "data": {
            "text/plain": [
              "(12937, 6)"
            ]
          },
          "metadata": {},
          "execution_count": 15
        }
      ]
    },
    {
      "cell_type": "code",
      "source": [
        "print(\"maximum length of Hindi Sentence \",max(df['length_hin_sentence']))\n",
        "print(\"maximum length of English Sentence \",max(df['length_eng_sentence']))"
      ],
      "metadata": {
        "execution": {
          "iopub.status.busy": "2022-09-13T08:04:47.485183Z",
          "iopub.execute_input": "2022-09-13T08:04:47.485687Z",
          "iopub.status.idle": "2022-09-13T08:04:47.494050Z",
          "shell.execute_reply.started": "2022-09-13T08:04:47.485442Z",
          "shell.execute_reply": "2022-09-13T08:04:47.492948Z"
        },
        "trusted": true,
        "colab": {
          "base_uri": "https://localhost:8080/"
        },
        "id": "3NASQGmUo72k",
        "outputId": "8177c624-6f9d-41f2-fc91-34e10bf612e3"
      },
      "execution_count": 16,
      "outputs": [
        {
          "output_type": "stream",
          "name": "stdout",
          "text": [
            "maximum length of Hindi Sentence  12\n",
            "maximum length of English Sentence  10\n"
          ]
        }
      ]
    },
    {
      "cell_type": "code",
      "source": [
        "max_length_src=max(df['length_hin_sentence'])\n",
        "max_length_tar=max(df['length_eng_sentence'])"
      ],
      "metadata": {
        "execution": {
          "iopub.status.busy": "2022-09-13T08:04:47.688325Z",
          "iopub.execute_input": "2022-09-13T08:04:47.688662Z",
          "iopub.status.idle": "2022-09-13T08:04:47.694276Z",
          "shell.execute_reply.started": "2022-09-13T08:04:47.688601Z",
          "shell.execute_reply": "2022-09-13T08:04:47.693147Z"
        },
        "trusted": true,
        "id": "bHqPHSj2o72l"
      },
      "execution_count": 17,
      "outputs": []
    },
    {
      "cell_type": "code",
      "source": [
        "input_words = sorted(list(all_eng_words))\n",
        "target_words = sorted(list(all_hindi_words))\n",
        "num_encoder_tokens = len(all_eng_words)\n",
        "num_decoder_tokens = len(all_hindi_words)\n",
        "num_encoder_tokens, num_decoder_tokens"
      ],
      "metadata": {
        "execution": {
          "iopub.status.busy": "2022-09-13T08:04:47.888907Z",
          "iopub.execute_input": "2022-09-13T08:04:47.889243Z",
          "iopub.status.idle": "2022-09-13T08:04:47.910118Z",
          "shell.execute_reply.started": "2022-09-13T08:04:47.889171Z",
          "shell.execute_reply": "2022-09-13T08:04:47.909448Z"
        },
        "trusted": true,
        "colab": {
          "base_uri": "https://localhost:8080/"
        },
        "id": "qjQL2w7go72l",
        "outputId": "bcba3d0b-1849-426a-9668-2f01a5c2ab37"
      },
      "execution_count": 18,
      "outputs": [
        {
          "output_type": "execute_result",
          "data": {
            "text/plain": [
              "(13406, 12971)"
            ]
          },
          "metadata": {},
          "execution_count": 18
        }
      ]
    },
    {
      "cell_type": "code",
      "source": [
        "num_decoder_tokens += 1 #for zero padding"
      ],
      "metadata": {
        "execution": {
          "iopub.status.busy": "2022-09-13T08:04:48.106831Z",
          "iopub.execute_input": "2022-09-13T08:04:48.107129Z",
          "iopub.status.idle": "2022-09-13T08:04:48.111115Z",
          "shell.execute_reply.started": "2022-09-13T08:04:48.107077Z",
          "shell.execute_reply": "2022-09-13T08:04:48.110286Z"
        },
        "trusted": true,
        "id": "3RnHpdvuo72l"
      },
      "execution_count": 19,
      "outputs": []
    },
    {
      "cell_type": "code",
      "source": [
        "input_token_index = dict([(word, i+1) for i, word in enumerate(input_words)])\n",
        "target_token_index = dict([(word, i+1) for i, word in enumerate(target_words)])"
      ],
      "metadata": {
        "execution": {
          "iopub.status.busy": "2022-09-13T08:04:48.322100Z",
          "iopub.execute_input": "2022-09-13T08:04:48.322352Z",
          "iopub.status.idle": "2022-09-13T08:04:48.340909Z",
          "shell.execute_reply.started": "2022-09-13T08:04:48.322303Z",
          "shell.execute_reply": "2022-09-13T08:04:48.340201Z"
        },
        "trusted": true,
        "id": "--kqTOs8o72m"
      },
      "execution_count": 20,
      "outputs": []
    },
    {
      "cell_type": "code",
      "source": [
        "reverse_input_char_index = dict((i, word) for word, i in input_token_index.items())\n",
        "reverse_target_char_index = dict((i, word) for word, i in target_token_index.items())"
      ],
      "metadata": {
        "execution": {
          "iopub.status.busy": "2022-09-13T08:04:48.530277Z",
          "iopub.execute_input": "2022-09-13T08:04:48.530539Z",
          "iopub.status.idle": "2022-09-13T08:04:48.540211Z",
          "shell.execute_reply.started": "2022-09-13T08:04:48.530487Z",
          "shell.execute_reply": "2022-09-13T08:04:48.539510Z"
        },
        "trusted": true,
        "id": "zp8_wnYGo72m"
      },
      "execution_count": 21,
      "outputs": []
    },
    {
      "cell_type": "code",
      "source": [
        "df = shuffle(df)\n",
        "df.head(10)"
      ],
      "metadata": {
        "execution": {
          "iopub.status.busy": "2022-09-13T08:04:48.759717Z",
          "iopub.execute_input": "2022-09-13T08:04:48.759950Z",
          "iopub.status.idle": "2022-09-13T08:04:48.778570Z",
          "shell.execute_reply.started": "2022-09-13T08:04:48.759904Z",
          "shell.execute_reply": "2022-09-13T08:04:48.777859Z"
        },
        "trusted": true,
        "colab": {
          "base_uri": "https://localhost:8080/",
          "height": 650
        },
        "id": "OMDc36S1o72m",
        "outputId": "1373d8e1-cf18-4696-d044-5a00589a2cbf"
      },
      "execution_count": 22,
      "outputs": [
        {
          "output_type": "execute_result",
          "data": {
            "text/plain": [
              "                                       English  \\\n",
              "8545                national museum of denmark   \n",
              "3513                                  devasree   \n",
              "7551   malcolm baldrige national quality award   \n",
              "5157                            gunung rinjani   \n",
              "3355                                   daudpur   \n",
              "4031                              ek thi ladki   \n",
              "6112                                   jerrica   \n",
              "11467                                  sumitra   \n",
              "6690                             khatta meetha   \n",
              "5220                 gurudwara sees ganj sahib   \n",
              "\n",
              "                                     Hindi  \\\n",
              "8545            नेशनल म्युज़ियम ऑफ डेनमार्क   \n",
              "3513                               देवश्री   \n",
              "7551   मैल्कम बैलरिज नेशनल क्वालिटी अवार्ड   \n",
              "5157                         गुनुंग रिनजनी   \n",
              "3355                               दाऊदपुर   \n",
              "4031                            एक थी लड़की   \n",
              "6112                                जेरिका   \n",
              "11467                             सुमित्रा   \n",
              "6690                            खट्टा मीठा   \n",
              "5220              गुरूद्वारा सीस गंज साहिब   \n",
              "\n",
              "                              english_sentence  \\\n",
              "8545                national museum of denmark   \n",
              "3513                                  devasree   \n",
              "7551   malcolm baldrige national quality award   \n",
              "5157                            gunung rinjani   \n",
              "3355                                   daudpur   \n",
              "4031                              ek thi ladki   \n",
              "6112                                   jerrica   \n",
              "11467                                  sumitra   \n",
              "6690                             khatta meetha   \n",
              "5220                 gurudwara sees ganj sahib   \n",
              "\n",
              "                                        hindi_sentence  length_eng_sentence  \\\n",
              "8545            START_ नेशनल म्युज़ियम ऑफ डेनमार्क _END                    4   \n",
              "3513                               START_ देवश्री _END                    1   \n",
              "7551   START_ मैल्कम बैलरिज नेशनल क्वालिटी अवार्ड _END                    5   \n",
              "5157                         START_ गुनुंग रिनजनी _END                    2   \n",
              "3355                               START_ दाऊदपुर _END                    1   \n",
              "4031                            START_ एक थी लड़की _END                    3   \n",
              "6112                                START_ जेरिका _END                    1   \n",
              "11467                             START_ सुमित्रा _END                    1   \n",
              "6690                            START_ खट्टा मीठा _END                    2   \n",
              "5220              START_ गुरूद्वारा सीस गंज साहिब _END                    4   \n",
              "\n",
              "       length_hin_sentence  \n",
              "8545                     6  \n",
              "3513                     3  \n",
              "7551                     7  \n",
              "5157                     4  \n",
              "3355                     3  \n",
              "4031                     5  \n",
              "6112                     3  \n",
              "11467                    3  \n",
              "6690                     4  \n",
              "5220                     6  "
            ],
            "text/html": [
              "\n",
              "  <div id=\"df-2f875c54-8d7e-443f-9850-6c151fc0262c\">\n",
              "    <div class=\"colab-df-container\">\n",
              "      <div>\n",
              "<style scoped>\n",
              "    .dataframe tbody tr th:only-of-type {\n",
              "        vertical-align: middle;\n",
              "    }\n",
              "\n",
              "    .dataframe tbody tr th {\n",
              "        vertical-align: top;\n",
              "    }\n",
              "\n",
              "    .dataframe thead th {\n",
              "        text-align: right;\n",
              "    }\n",
              "</style>\n",
              "<table border=\"1\" class=\"dataframe\">\n",
              "  <thead>\n",
              "    <tr style=\"text-align: right;\">\n",
              "      <th></th>\n",
              "      <th>English</th>\n",
              "      <th>Hindi</th>\n",
              "      <th>english_sentence</th>\n",
              "      <th>hindi_sentence</th>\n",
              "      <th>length_eng_sentence</th>\n",
              "      <th>length_hin_sentence</th>\n",
              "    </tr>\n",
              "  </thead>\n",
              "  <tbody>\n",
              "    <tr>\n",
              "      <th>8545</th>\n",
              "      <td>national museum of denmark</td>\n",
              "      <td>नेशनल म्युज़ियम ऑफ डेनमार्क</td>\n",
              "      <td>national museum of denmark</td>\n",
              "      <td>START_ नेशनल म्युज़ियम ऑफ डेनमार्क _END</td>\n",
              "      <td>4</td>\n",
              "      <td>6</td>\n",
              "    </tr>\n",
              "    <tr>\n",
              "      <th>3513</th>\n",
              "      <td>devasree</td>\n",
              "      <td>देवश्री</td>\n",
              "      <td>devasree</td>\n",
              "      <td>START_ देवश्री _END</td>\n",
              "      <td>1</td>\n",
              "      <td>3</td>\n",
              "    </tr>\n",
              "    <tr>\n",
              "      <th>7551</th>\n",
              "      <td>malcolm baldrige national quality award</td>\n",
              "      <td>मैल्कम बैलरिज नेशनल क्वालिटी अवार्ड</td>\n",
              "      <td>malcolm baldrige national quality award</td>\n",
              "      <td>START_ मैल्कम बैलरिज नेशनल क्वालिटी अवार्ड _END</td>\n",
              "      <td>5</td>\n",
              "      <td>7</td>\n",
              "    </tr>\n",
              "    <tr>\n",
              "      <th>5157</th>\n",
              "      <td>gunung rinjani</td>\n",
              "      <td>गुनुंग रिनजनी</td>\n",
              "      <td>gunung rinjani</td>\n",
              "      <td>START_ गुनुंग रिनजनी _END</td>\n",
              "      <td>2</td>\n",
              "      <td>4</td>\n",
              "    </tr>\n",
              "    <tr>\n",
              "      <th>3355</th>\n",
              "      <td>daudpur</td>\n",
              "      <td>दाऊदपुर</td>\n",
              "      <td>daudpur</td>\n",
              "      <td>START_ दाऊदपुर _END</td>\n",
              "      <td>1</td>\n",
              "      <td>3</td>\n",
              "    </tr>\n",
              "    <tr>\n",
              "      <th>4031</th>\n",
              "      <td>ek thi ladki</td>\n",
              "      <td>एक थी लड़की</td>\n",
              "      <td>ek thi ladki</td>\n",
              "      <td>START_ एक थी लड़की _END</td>\n",
              "      <td>3</td>\n",
              "      <td>5</td>\n",
              "    </tr>\n",
              "    <tr>\n",
              "      <th>6112</th>\n",
              "      <td>jerrica</td>\n",
              "      <td>जेरिका</td>\n",
              "      <td>jerrica</td>\n",
              "      <td>START_ जेरिका _END</td>\n",
              "      <td>1</td>\n",
              "      <td>3</td>\n",
              "    </tr>\n",
              "    <tr>\n",
              "      <th>11467</th>\n",
              "      <td>sumitra</td>\n",
              "      <td>सुमित्रा</td>\n",
              "      <td>sumitra</td>\n",
              "      <td>START_ सुमित्रा _END</td>\n",
              "      <td>1</td>\n",
              "      <td>3</td>\n",
              "    </tr>\n",
              "    <tr>\n",
              "      <th>6690</th>\n",
              "      <td>khatta meetha</td>\n",
              "      <td>खट्टा मीठा</td>\n",
              "      <td>khatta meetha</td>\n",
              "      <td>START_ खट्टा मीठा _END</td>\n",
              "      <td>2</td>\n",
              "      <td>4</td>\n",
              "    </tr>\n",
              "    <tr>\n",
              "      <th>5220</th>\n",
              "      <td>gurudwara sees ganj sahib</td>\n",
              "      <td>गुरूद्वारा सीस गंज साहिब</td>\n",
              "      <td>gurudwara sees ganj sahib</td>\n",
              "      <td>START_ गुरूद्वारा सीस गंज साहिब _END</td>\n",
              "      <td>4</td>\n",
              "      <td>6</td>\n",
              "    </tr>\n",
              "  </tbody>\n",
              "</table>\n",
              "</div>\n",
              "      <button class=\"colab-df-convert\" onclick=\"convertToInteractive('df-2f875c54-8d7e-443f-9850-6c151fc0262c')\"\n",
              "              title=\"Convert this dataframe to an interactive table.\"\n",
              "              style=\"display:none;\">\n",
              "        \n",
              "  <svg xmlns=\"http://www.w3.org/2000/svg\" height=\"24px\"viewBox=\"0 0 24 24\"\n",
              "       width=\"24px\">\n",
              "    <path d=\"M0 0h24v24H0V0z\" fill=\"none\"/>\n",
              "    <path d=\"M18.56 5.44l.94 2.06.94-2.06 2.06-.94-2.06-.94-.94-2.06-.94 2.06-2.06.94zm-11 1L8.5 8.5l.94-2.06 2.06-.94-2.06-.94L8.5 2.5l-.94 2.06-2.06.94zm10 10l.94 2.06.94-2.06 2.06-.94-2.06-.94-.94-2.06-.94 2.06-2.06.94z\"/><path d=\"M17.41 7.96l-1.37-1.37c-.4-.4-.92-.59-1.43-.59-.52 0-1.04.2-1.43.59L10.3 9.45l-7.72 7.72c-.78.78-.78 2.05 0 2.83L4 21.41c.39.39.9.59 1.41.59.51 0 1.02-.2 1.41-.59l7.78-7.78 2.81-2.81c.8-.78.8-2.07 0-2.86zM5.41 20L4 18.59l7.72-7.72 1.47 1.35L5.41 20z\"/>\n",
              "  </svg>\n",
              "      </button>\n",
              "      \n",
              "  <style>\n",
              "    .colab-df-container {\n",
              "      display:flex;\n",
              "      flex-wrap:wrap;\n",
              "      gap: 12px;\n",
              "    }\n",
              "\n",
              "    .colab-df-convert {\n",
              "      background-color: #E8F0FE;\n",
              "      border: none;\n",
              "      border-radius: 50%;\n",
              "      cursor: pointer;\n",
              "      display: none;\n",
              "      fill: #1967D2;\n",
              "      height: 32px;\n",
              "      padding: 0 0 0 0;\n",
              "      width: 32px;\n",
              "    }\n",
              "\n",
              "    .colab-df-convert:hover {\n",
              "      background-color: #E2EBFA;\n",
              "      box-shadow: 0px 1px 2px rgba(60, 64, 67, 0.3), 0px 1px 3px 1px rgba(60, 64, 67, 0.15);\n",
              "      fill: #174EA6;\n",
              "    }\n",
              "\n",
              "    [theme=dark] .colab-df-convert {\n",
              "      background-color: #3B4455;\n",
              "      fill: #D2E3FC;\n",
              "    }\n",
              "\n",
              "    [theme=dark] .colab-df-convert:hover {\n",
              "      background-color: #434B5C;\n",
              "      box-shadow: 0px 1px 3px 1px rgba(0, 0, 0, 0.15);\n",
              "      filter: drop-shadow(0px 1px 2px rgba(0, 0, 0, 0.3));\n",
              "      fill: #FFFFFF;\n",
              "    }\n",
              "  </style>\n",
              "\n",
              "      <script>\n",
              "        const buttonEl =\n",
              "          document.querySelector('#df-2f875c54-8d7e-443f-9850-6c151fc0262c button.colab-df-convert');\n",
              "        buttonEl.style.display =\n",
              "          google.colab.kernel.accessAllowed ? 'block' : 'none';\n",
              "\n",
              "        async function convertToInteractive(key) {\n",
              "          const element = document.querySelector('#df-2f875c54-8d7e-443f-9850-6c151fc0262c');\n",
              "          const dataTable =\n",
              "            await google.colab.kernel.invokeFunction('convertToInteractive',\n",
              "                                                     [key], {});\n",
              "          if (!dataTable) return;\n",
              "\n",
              "          const docLinkHtml = 'Like what you see? Visit the ' +\n",
              "            '<a target=\"_blank\" href=https://colab.research.google.com/notebooks/data_table.ipynb>data table notebook</a>'\n",
              "            + ' to learn more about interactive tables.';\n",
              "          element.innerHTML = '';\n",
              "          dataTable['output_type'] = 'display_data';\n",
              "          await google.colab.output.renderOutput(dataTable, element);\n",
              "          const docLink = document.createElement('div');\n",
              "          docLink.innerHTML = docLinkHtml;\n",
              "          element.appendChild(docLink);\n",
              "        }\n",
              "      </script>\n",
              "    </div>\n",
              "  </div>\n",
              "  "
            ]
          },
          "metadata": {},
          "execution_count": 22
        }
      ]
    },
    {
      "cell_type": "code",
      "source": [
        "df.drop(['English','Hindi'],axis=1,inplace=True)"
      ],
      "metadata": {
        "execution": {
          "iopub.status.busy": "2022-09-13T08:04:48.976033Z",
          "iopub.execute_input": "2022-09-13T08:04:48.976275Z",
          "iopub.status.idle": "2022-09-13T08:04:49.057345Z",
          "shell.execute_reply.started": "2022-09-13T08:04:48.976227Z",
          "shell.execute_reply": "2022-09-13T08:04:49.056529Z"
        },
        "trusted": true,
        "id": "8xpns1jHo72m"
      },
      "execution_count": 23,
      "outputs": []
    },
    {
      "cell_type": "markdown",
      "source": [
        "### Split the data into train and test"
      ],
      "metadata": {
        "id": "QQB27w6vo72m"
      }
    },
    {
      "cell_type": "code",
      "source": [
        "X, y = df['english_sentence'], df['hindi_sentence']\n",
        "X_train, X_test, y_train, y_test = train_test_split(X, y, test_size = 0.2,random_state=42)\n",
        "X_train.shape, X_test.shape"
      ],
      "metadata": {
        "execution": {
          "iopub.status.busy": "2022-09-13T08:04:49.938748Z",
          "iopub.execute_input": "2022-09-13T08:04:49.939038Z",
          "iopub.status.idle": "2022-09-13T08:04:49.951395Z",
          "shell.execute_reply.started": "2022-09-13T08:04:49.938986Z",
          "shell.execute_reply": "2022-09-13T08:04:49.950589Z"
        },
        "trusted": true,
        "colab": {
          "base_uri": "https://localhost:8080/"
        },
        "id": "P-oNmp4mo72n",
        "outputId": "853dff8c-2da8-4dc8-e158-0a8af1cb3247"
      },
      "execution_count": 24,
      "outputs": [
        {
          "output_type": "execute_result",
          "data": {
            "text/plain": [
              "((10349,), (2588,))"
            ]
          },
          "metadata": {},
          "execution_count": 24
        }
      ]
    },
    {
      "cell_type": "markdown",
      "source": [
        "### Let us save this data"
      ],
      "metadata": {
        "id": "Caaj9JG-o72n"
      }
    },
    {
      "cell_type": "code",
      "source": [
        "X.to_pickle('X_train.pkl')\n",
        "X.to_pickle('X_test.pkl')"
      ],
      "metadata": {
        "execution": {
          "iopub.status.busy": "2022-09-13T08:04:50.436615Z",
          "iopub.execute_input": "2022-09-13T08:04:50.436894Z",
          "iopub.status.idle": "2022-09-13T08:04:50.620944Z",
          "shell.execute_reply.started": "2022-09-13T08:04:50.436842Z",
          "shell.execute_reply": "2022-09-13T08:04:50.620244Z"
        },
        "trusted": true,
        "id": "F0eb-HRyo72n"
      },
      "execution_count": 25,
      "outputs": []
    },
    {
      "cell_type": "code",
      "source": [
        "def generate_batch(X = X_train, y = y_train, batch_size = 128):\n",
        "    ''' Generate a batch of data '''\n",
        "    while True:\n",
        "        for j in range(0, len(X), batch_size):\n",
        "            encoder_input_data = np.zeros((batch_size, max_length_src),dtype='float32')\n",
        "            decoder_input_data = np.zeros((batch_size, max_length_tar),dtype='float32')\n",
        "            decoder_target_data = np.zeros((batch_size, max_length_tar, num_decoder_tokens),dtype='float32')\n",
        "            for i, (input_text, target_text) in enumerate(zip(X[j:j+batch_size], y[j:j+batch_size])):\n",
        "                for t, word in enumerate(input_text.split()):\n",
        "                    encoder_input_data[i, t] = input_token_index[word] # encoder input seq\n",
        "                for t, word in enumerate(target_text.split()):\n",
        "                    try:\n",
        "                        if t<len(target_text.split())-1:\n",
        "                            decoder_input_data[i, t] = target_token_index[word] # decoder input seq\n",
        "                        if t>0:\n",
        "                            # decoder target sequence (one hot encoded)\n",
        "                            # does not include the START_ token\n",
        "                            # Offset by one timestep\n",
        "                            decoder_target_data[i, t - 1, target_token_index[word]] = 1.\n",
        "                    except:\n",
        "                        pass\n",
        "            yield([encoder_input_data, decoder_input_data], decoder_target_data)"
      ],
      "metadata": {
        "execution": {
          "iopub.status.busy": "2022-09-13T08:04:50.670290Z",
          "iopub.execute_input": "2022-09-13T08:04:50.670545Z",
          "iopub.status.idle": "2022-09-13T08:04:50.678491Z",
          "shell.execute_reply.started": "2022-09-13T08:04:50.670497Z",
          "shell.execute_reply": "2022-09-13T08:04:50.677587Z"
        },
        "trusted": true,
        "id": "esSQcF98o72o"
      },
      "execution_count": 26,
      "outputs": []
    },
    {
      "cell_type": "markdown",
      "source": [
        "### Encoder-Decoder Architecture"
      ],
      "metadata": {
        "id": "GCKFui2Uo72o"
      }
    },
    {
      "cell_type": "code",
      "source": [
        "latent_dim=300"
      ],
      "metadata": {
        "execution": {
          "iopub.status.busy": "2022-09-13T08:04:51.130392Z",
          "iopub.execute_input": "2022-09-13T08:04:51.130705Z",
          "iopub.status.idle": "2022-09-13T08:04:51.134638Z",
          "shell.execute_reply.started": "2022-09-13T08:04:51.130653Z",
          "shell.execute_reply": "2022-09-13T08:04:51.133602Z"
        },
        "trusted": true,
        "id": "1mx510SXo72o"
      },
      "execution_count": 27,
      "outputs": []
    },
    {
      "cell_type": "code",
      "source": [
        "# Encoder\n",
        "encoder_inputs = Input(shape=(None,))\n",
        "enc_emb =  Embedding(num_encoder_tokens, latent_dim, mask_zero = True)(encoder_inputs)\n",
        "encoder_lstm = LSTM(latent_dim, return_state=True)\n",
        "encoder_outputs, state_h, state_c = encoder_lstm(enc_emb)\n",
        "# We discard `encoder_outputs` and only keep the states.\n",
        "encoder_states = [state_h, state_c]"
      ],
      "metadata": {
        "execution": {
          "iopub.status.busy": "2022-09-13T08:04:52.186001Z",
          "iopub.execute_input": "2022-09-13T08:04:52.186281Z",
          "iopub.status.idle": "2022-09-13T08:04:52.609629Z",
          "shell.execute_reply.started": "2022-09-13T08:04:52.186228Z",
          "shell.execute_reply": "2022-09-13T08:04:52.608922Z"
        },
        "trusted": true,
        "id": "lEj52Hvdo72o"
      },
      "execution_count": 28,
      "outputs": []
    },
    {
      "cell_type": "code",
      "source": [
        "num_decoder_tokens"
      ],
      "metadata": {
        "colab": {
          "base_uri": "https://localhost:8080/"
        },
        "id": "iGVBviLpB4Nq",
        "outputId": "e34f5902-b9e6-4404-8076-936a7f88ccbe"
      },
      "execution_count": 29,
      "outputs": [
        {
          "output_type": "execute_result",
          "data": {
            "text/plain": [
              "12972"
            ]
          },
          "metadata": {},
          "execution_count": 29
        }
      ]
    },
    {
      "cell_type": "code",
      "source": [
        "num_decoder_tokens"
      ],
      "metadata": {
        "colab": {
          "base_uri": "https://localhost:8080/"
        },
        "id": "E3jFyyYFPGzU",
        "outputId": "672f03ac-2acf-415c-de9d-92e3232bc083"
      },
      "execution_count": 55,
      "outputs": [
        {
          "output_type": "execute_result",
          "data": {
            "text/plain": [
              "12972"
            ]
          },
          "metadata": {},
          "execution_count": 55
        }
      ]
    },
    {
      "cell_type": "code",
      "source": [
        "decoder_inputs.shape"
      ],
      "metadata": {
        "colab": {
          "base_uri": "https://localhost:8080/"
        },
        "id": "kFC0sOFRPLIQ",
        "outputId": "c4769755-4650-489d-b8e8-43164a14a539"
      },
      "execution_count": 57,
      "outputs": [
        {
          "output_type": "execute_result",
          "data": {
            "text/plain": [
              "TensorShape([None, None])"
            ]
          },
          "metadata": {},
          "execution_count": 57
        }
      ]
    },
    {
      "cell_type": "code",
      "source": [
        "# Set up the decoder, using `encoder_states` as initial state.\n",
        "decoder_inputs = Input(shape=(None,))\n",
        "dec_emb_layer = Embedding(num_decoder_tokens, latent_dim, mask_zero = True)\n",
        "dec_emb = dec_emb_layer(decoder_inputs)\n",
        "# We set up our decoder to return full output sequences,\n",
        "# and to return internal states as well. We don't use the\n",
        "# return states in the training model, but we will use them in inference.\n",
        "decoder_lstm = LSTM(latent_dim, return_sequences=True, return_state=True)\n",
        "decoder_outputs, _, _ = decoder_lstm(dec_emb,\n",
        "                                     initial_state=encoder_states)\n",
        "decoder_dense = Dense(num_decoder_tokens, activation='softmax')\n",
        "decoder_outputs = decoder_dense(decoder_outputs)\n",
        "\n",
        "# Define the model that will turn\n",
        "# `encoder_input_data` & `decoder_input_data` into `decoder_target_data`\n",
        "model = Model([encoder_inputs, decoder_inputs], decoder_outputs)"
      ],
      "metadata": {
        "execution": {
          "iopub.status.busy": "2022-09-13T08:04:52.951237Z",
          "iopub.execute_input": "2022-09-13T08:04:52.951534Z",
          "iopub.status.idle": "2022-09-13T08:04:53.344273Z",
          "shell.execute_reply.started": "2022-09-13T08:04:52.951459Z",
          "shell.execute_reply": "2022-09-13T08:04:53.343581Z"
        },
        "trusted": true,
        "id": "qhFwFdrpo72p"
      },
      "execution_count": 30,
      "outputs": []
    },
    {
      "cell_type": "code",
      "source": [
        "model.compile(optimizer='adam', loss='categorical_crossentropy')"
      ],
      "metadata": {
        "execution": {
          "iopub.status.busy": "2022-09-13T08:04:53.346011Z",
          "iopub.execute_input": "2022-09-13T08:04:53.346335Z",
          "iopub.status.idle": "2022-09-13T08:04:53.383805Z",
          "shell.execute_reply.started": "2022-09-13T08:04:53.346284Z",
          "shell.execute_reply": "2022-09-13T08:04:53.382851Z"
        },
        "trusted": true,
        "id": "qjaEqgmto72p"
      },
      "execution_count": 31,
      "outputs": []
    },
    {
      "cell_type": "code",
      "source": [
        "model.summary()"
      ],
      "metadata": {
        "execution": {
          "iopub.status.busy": "2022-09-13T08:04:53.719036Z",
          "iopub.execute_input": "2022-09-13T08:04:53.719292Z",
          "iopub.status.idle": "2022-09-13T08:04:53.730992Z",
          "shell.execute_reply.started": "2022-09-13T08:04:53.719243Z",
          "shell.execute_reply": "2022-09-13T08:04:53.729232Z"
        },
        "trusted": true,
        "colab": {
          "base_uri": "https://localhost:8080/"
        },
        "id": "obSdpu-To72p",
        "outputId": "83cacc63-6cfe-47f0-ea44-2516438640bb"
      },
      "execution_count": 32,
      "outputs": [
        {
          "output_type": "stream",
          "name": "stdout",
          "text": [
            "Model: \"model\"\n",
            "__________________________________________________________________________________________________\n",
            " Layer (type)                   Output Shape         Param #     Connected to                     \n",
            "==================================================================================================\n",
            " input_1 (InputLayer)           [(None, None)]       0           []                               \n",
            "                                                                                                  \n",
            " input_2 (InputLayer)           [(None, None)]       0           []                               \n",
            "                                                                                                  \n",
            " embedding (Embedding)          (None, None, 300)    4021800     ['input_1[0][0]']                \n",
            "                                                                                                  \n",
            " embedding_1 (Embedding)        (None, None, 300)    3891600     ['input_2[0][0]']                \n",
            "                                                                                                  \n",
            " lstm (LSTM)                    [(None, 300),        721200      ['embedding[0][0]']              \n",
            "                                 (None, 300),                                                     \n",
            "                                 (None, 300)]                                                     \n",
            "                                                                                                  \n",
            " lstm_1 (LSTM)                  [(None, None, 300),  721200      ['embedding_1[0][0]',            \n",
            "                                 (None, 300),                     'lstm[0][1]',                   \n",
            "                                 (None, 300)]                     'lstm[0][2]']                   \n",
            "                                                                                                  \n",
            " dense (Dense)                  (None, None, 12972)  3904572     ['lstm_1[0][0]']                 \n",
            "                                                                                                  \n",
            "==================================================================================================\n",
            "Total params: 13,260,372\n",
            "Trainable params: 13,260,372\n",
            "Non-trainable params: 0\n",
            "__________________________________________________________________________________________________\n"
          ]
        }
      ]
    },
    {
      "cell_type": "code",
      "source": [
        "train_samples = len(X_train)\n",
        "val_samples = len(X_test)\n",
        "batch_size = 64\n",
        "epochs =1000"
      ],
      "metadata": {
        "execution": {
          "iopub.status.busy": "2022-09-13T08:04:54.094369Z",
          "iopub.execute_input": "2022-09-13T08:04:54.094703Z",
          "iopub.status.idle": "2022-09-13T08:04:54.099213Z",
          "shell.execute_reply.started": "2022-09-13T08:04:54.094642Z",
          "shell.execute_reply": "2022-09-13T08:04:54.097989Z"
        },
        "trusted": true,
        "id": "YT9IaAFto72p"
      },
      "execution_count": 48,
      "outputs": []
    },
    {
      "cell_type": "code",
      "source": [
        "import tensorflow as tf"
      ],
      "metadata": {
        "id": "fGxRPpF7rL-k"
      },
      "execution_count": 49,
      "outputs": []
    },
    {
      "cell_type": "code",
      "source": [
        "from tensorflow.keras.callbacks import EarlyStopping"
      ],
      "metadata": {
        "id": "z_7Ycg5FrI5d"
      },
      "execution_count": 50,
      "outputs": []
    },
    {
      "cell_type": "code",
      "source": [
        "# early = EarlyStopping(patience=8)"
      ],
      "metadata": {
        "id": "ee5yVOyirZ1w"
      },
      "execution_count": 51,
      "outputs": []
    },
    {
      "cell_type": "code",
      "source": [
        "import numpy as np"
      ],
      "metadata": {
        "id": "79m0UlqOrnDX"
      },
      "execution_count": 52,
      "outputs": []
    },
    {
      "cell_type": "code",
      "source": [
        "model.fit_generator(generator = generate_batch(X_train, y_train, batch_size = batch_size),\n",
        "                    steps_per_epoch = train_samples//batch_size,\n",
        "                    epochs=epochs,\n",
        "                    # callbacks=[early],\n",
        "                    validation_data = generate_batch(X_test, y_test, batch_size = batch_size),\n",
        "                    validation_steps = val_samples//batch_size)"
      ],
      "metadata": {
        "execution": {
          "iopub.status.busy": "2022-09-13T08:04:55.002266Z",
          "iopub.execute_input": "2022-09-13T08:04:55.002578Z",
          "iopub.status.idle": "2022-09-13T08:37:50.905138Z",
          "shell.execute_reply.started": "2022-09-13T08:04:55.002519Z",
          "shell.execute_reply": "2022-09-13T08:37:50.904492Z"
        },
        "trusted": true,
        "id": "gF38iIeqo72p"
      },
      "execution_count": null,
      "outputs": []
    },
    {
      "cell_type": "code",
      "source": [
        "model.save_weights('/content/drive/MyDrive/Capstone_project/01_NewmyModel_weights.h5')"
      ],
      "metadata": {
        "id": "EEvQ6__83A04"
      },
      "execution_count": 54,
      "outputs": []
    },
    {
      "cell_type": "code",
      "source": [
        "from google.colab import drive\n",
        "drive.mount('/content/drive')"
      ],
      "metadata": {
        "id": "hdtmR2AU4AvX"
      },
      "execution_count": null,
      "outputs": []
    },
    {
      "cell_type": "code",
      "source": [
        "# Encode the input sequence to get the \"thought vectors\"\n",
        "encoder_model = Model(encoder_inputs, encoder_states)\n",
        "\n",
        "# Decoder setup\n",
        "# Below tensors will hold the states of the previous time step\n",
        "decoder_state_input_h = Input(shape=(latent_dim,))\n",
        "decoder_state_input_c = Input(shape=(latent_dim,))\n",
        "decoder_states_inputs = [decoder_state_input_h, decoder_state_input_c]\n",
        "\n",
        "dec_emb2= dec_emb_layer(decoder_inputs) # Get the embeddings of the decoder sequence\n",
        "\n",
        "# To predict the next word in the sequence, set the initial states to the states from the previous time step\n",
        "decoder_outputs2, state_h2, state_c2 = decoder_lstm(dec_emb2, initial_state=decoder_states_inputs)\n",
        "decoder_states2 = [state_h2, state_c2]\n",
        "decoder_outputs2 = decoder_dense(decoder_outputs2) # A dense softmax layer to generate prob dist. over the target vocabulary\n",
        "\n",
        "# Final decoder model\n",
        "decoder_model = Model(\n",
        "    [decoder_inputs] + decoder_states_inputs,\n",
        "    [decoder_outputs2] + decoder_states2)\n"
      ],
      "metadata": {
        "execution": {
          "iopub.status.busy": "2022-09-13T08:37:51.110818Z",
          "iopub.execute_input": "2022-09-13T08:37:51.111077Z",
          "iopub.status.idle": "2022-09-13T08:37:51.269274Z",
          "shell.execute_reply.started": "2022-09-13T08:37:51.111025Z",
          "shell.execute_reply": "2022-09-13T08:37:51.268571Z"
        },
        "trusted": true,
        "id": "T75GeWg8o72p"
      },
      "execution_count": 58,
      "outputs": []
    },
    {
      "cell_type": "code",
      "source": [
        "def decode_sequence(input_seq):\n",
        "    # Encode the input as state vectors.\n",
        "    states_value = encoder_model.predict(input_seq)\n",
        "    # Generate empty target sequence of length 1.\n",
        "    target_seq = np.zeros((1,1))\n",
        "    # Populate the first character of target sequence with the start character.\n",
        "    target_seq[0, 0] = target_token_index['START_']\n",
        "\n",
        "    # Sampling loop for a batch of sequences\n",
        "    # (to simplify, here we assume a batch of size 1).\n",
        "    stop_condition = False\n",
        "    decoded_sentence = ''\n",
        "    while not stop_condition:\n",
        "        try:\n",
        "          output_tokens, h, c = decoder_model.predict([target_seq] + states_value)\n",
        "\n",
        "          # Sample a token\n",
        "          sampled_token_index = np.argmax(output_tokens[0, -1, :])\n",
        "          sampled_char = reverse_target_char_index[sampled_token_index]\n",
        "          decoded_sentence += ' '+sampled_char\n",
        "\n",
        "          # Exit condition: either hit max length\n",
        "          # or find stop character.\n",
        "          if (sampled_char == '_END' or\n",
        "            len(decoded_sentence) > 50):\n",
        "              stop_condition = True\n",
        "\n",
        "          # Update the target sequence (of length 1).\n",
        "          target_seq = np.zeros((1,1))\n",
        "          target_seq[0, 0] = sampled_token_index\n",
        "\n",
        "          # Update states\n",
        "          states_value = [h, c]\n",
        "        except:\n",
        "          pass\n",
        "\n",
        "    return decoded_sentence"
      ],
      "metadata": {
        "execution": {
          "iopub.status.busy": "2022-09-13T08:37:51.270548Z",
          "iopub.execute_input": "2022-09-13T08:37:51.270806Z",
          "iopub.status.idle": "2022-09-13T08:37:51.277727Z",
          "shell.execute_reply.started": "2022-09-13T08:37:51.270761Z",
          "shell.execute_reply": "2022-09-13T08:37:51.276916Z"
        },
        "trusted": true,
        "id": "mY7abcdeo72q"
      },
      "execution_count": 59,
      "outputs": []
    },
    {
      "cell_type": "code",
      "source": [
        "train_gen = generate_batch(X_train, y_train, batch_size = 1)\n",
        "k=-1"
      ],
      "metadata": {
        "execution": {
          "iopub.status.busy": "2022-09-13T08:37:51.279036Z",
          "iopub.execute_input": "2022-09-13T08:37:51.279649Z",
          "iopub.status.idle": "2022-09-13T08:37:51.290200Z",
          "shell.execute_reply.started": "2022-09-13T08:37:51.279598Z",
          "shell.execute_reply": "2022-09-13T08:37:51.289545Z"
        },
        "trusted": true,
        "id": "rVaTzlcio72q"
      },
      "execution_count": 60,
      "outputs": []
    },
    {
      "cell_type": "code",
      "source": [
        "k+=1\n",
        "(input_seq, actual_output), _ = next(train_gen)\n",
        "decoded_sentence = decode_sequence(input_seq)\n",
        "print('Input English sentence:', X_train[k:k+1].values[0])\n",
        "print('Actual Hindi Translation:', y_train[k:k+1].values[0][6:-4])\n",
        "print('Predicted Hindi Translation:', decoded_sentence[:-4])"
      ],
      "metadata": {
        "execution": {
          "iopub.status.busy": "2022-09-13T08:37:51.291886Z",
          "iopub.execute_input": "2022-09-13T08:37:51.292972Z",
          "iopub.status.idle": "2022-09-13T08:37:51.588774Z",
          "shell.execute_reply.started": "2022-09-13T08:37:51.292181Z",
          "shell.execute_reply": "2022-09-13T08:37:51.587186Z"
        },
        "trusted": true,
        "colab": {
          "base_uri": "https://localhost:8080/"
        },
        "id": "FBG8r7S1o72q",
        "outputId": "e15a8169-b101-4081-bab5-3c0cb010a39a"
      },
      "execution_count": 61,
      "outputs": [
        {
          "output_type": "stream",
          "name": "stdout",
          "text": [
            "Input English sentence: sholayar reservoir\n",
            "Actual Hindi Translation:  शोलायर रिज़रवायर \n",
            "Predicted Hindi Translation:  शोलायर रिज़रवायर \n"
          ]
        }
      ]
    },
    {
      "cell_type": "code",
      "source": [
        "k+=1\n",
        "(input_seq, actual_output), _ = next(train_gen)\n",
        "decoded_sentence = decode_sequence(input_seq)\n",
        "print('Input English sentence:', X_train[k:k+1].values[0])\n",
        "print('Actual Hindi Translation:', y_train[k:k+1].values[0][6:-4])\n",
        "print('Predicted Hindi Translation:', decoded_sentence[:-4])"
      ],
      "metadata": {
        "execution": {
          "iopub.status.busy": "2022-09-13T08:37:51.590025Z",
          "iopub.execute_input": "2022-09-13T08:37:51.590297Z",
          "iopub.status.idle": "2022-09-13T08:37:51.608794Z",
          "shell.execute_reply.started": "2022-09-13T08:37:51.590240Z",
          "shell.execute_reply": "2022-09-13T08:37:51.608176Z"
        },
        "trusted": true,
        "colab": {
          "base_uri": "https://localhost:8080/"
        },
        "id": "Bg_PX0vbo72r",
        "outputId": "04f5d644-ad7b-483e-c862-4c17d54287d6"
      },
      "execution_count": 62,
      "outputs": [
        {
          "output_type": "stream",
          "name": "stdout",
          "text": [
            "Input English sentence: vrajabala\n",
            "Actual Hindi Translation:  व्रजबाला \n",
            "Predicted Hindi Translation:  व्रजबाला \n"
          ]
        }
      ]
    },
    {
      "cell_type": "code",
      "source": [
        "k+=1\n",
        "(input_seq, actual_output), _ = next(train_gen)\n",
        "decoded_sentence = decode_sequence(input_seq)\n",
        "print('Input English sentence:', X_train[k:k+1].values[0])\n",
        "print('Actual Hindi Translation:', y_train[k:k+1].values[0][6:-4])\n",
        "print('Predicted Hindi Translation:', decoded_sentence[:-4])"
      ],
      "metadata": {
        "execution": {
          "iopub.status.busy": "2022-09-13T08:37:51.611155Z",
          "iopub.execute_input": "2022-09-13T08:37:51.611434Z",
          "iopub.status.idle": "2022-09-13T08:37:51.628632Z",
          "shell.execute_reply.started": "2022-09-13T08:37:51.611393Z",
          "shell.execute_reply": "2022-09-13T08:37:51.626930Z"
        },
        "trusted": true,
        "colab": {
          "base_uri": "https://localhost:8080/"
        },
        "id": "cTb2Mvgwo72r",
        "outputId": "5d2ecca8-6004-45e6-9335-20cde46abf43"
      },
      "execution_count": 63,
      "outputs": [
        {
          "output_type": "stream",
          "name": "stdout",
          "text": [
            "Input English sentence: anil\n",
            "Actual Hindi Translation:  अनिल \n",
            "Predicted Hindi Translation:  अनिल \n"
          ]
        }
      ]
    },
    {
      "cell_type": "code",
      "source": [
        "k+=1\n",
        "(input_seq, actual_output), _ = next(train_gen)\n",
        "decoded_sentence = decode_sequence(input_seq)\n",
        "print('Input English sentence:', X_train[k:k+1].values[0])\n",
        "print('Actual Hindi Translation:', y_train[k:k+1].values[0][6:-4])\n",
        "print('Predicted Hindi Translation:', decoded_sentence[:-4])"
      ],
      "metadata": {
        "execution": {
          "iopub.status.busy": "2022-09-13T08:37:51.630138Z",
          "iopub.execute_input": "2022-09-13T08:37:51.630740Z",
          "iopub.status.idle": "2022-09-13T08:37:51.647461Z",
          "shell.execute_reply.started": "2022-09-13T08:37:51.630517Z",
          "shell.execute_reply": "2022-09-13T08:37:51.646787Z"
        },
        "trusted": true,
        "colab": {
          "base_uri": "https://localhost:8080/"
        },
        "id": "uegoCMLUo72r",
        "outputId": "3918b487-0543-487d-f5e8-5a0b619341db"
      },
      "execution_count": 45,
      "outputs": [
        {
          "output_type": "stream",
          "name": "stdout",
          "text": [
            "Input English sentence: tibesti\n",
            "Actual Hindi Translation:  तिबेस्ती \n",
            "Predicted Hindi Translation:  तिबेस्ती \n"
          ]
        }
      ]
    },
    {
      "cell_type": "code",
      "source": [
        "k+=1\n",
        "(input_seq, actual_output), _ = next(train_gen)\n",
        "decoded_sentence = decode_sequence(input_seq)\n",
        "print('Input English sentence:', X_train[k:k+1].values[0])\n",
        "print('Actual Hindi Translation:', y_train[k:k+1].values[0][6:-4])\n",
        "print('Predicted Hindi Translation:', decoded_sentence[:-4])"
      ],
      "metadata": {
        "execution": {
          "iopub.status.busy": "2022-09-13T08:37:51.650068Z",
          "iopub.execute_input": "2022-09-13T08:37:51.650278Z",
          "iopub.status.idle": "2022-09-13T08:37:51.666402Z",
          "shell.execute_reply.started": "2022-09-13T08:37:51.650234Z",
          "shell.execute_reply": "2022-09-13T08:37:51.664766Z"
        },
        "trusted": true,
        "colab": {
          "base_uri": "https://localhost:8080/"
        },
        "id": "iai3Fj7yo72r",
        "outputId": "35955b4b-9cee-42b4-8ec2-8a97d3aee09c"
      },
      "execution_count": 46,
      "outputs": [
        {
          "output_type": "stream",
          "name": "stdout",
          "text": [
            "Input English sentence: vaasantee\n",
            "Actual Hindi Translation:  वासंती \n",
            "Predicted Hindi Translation:  वासंती \n"
          ]
        }
      ]
    },
    {
      "cell_type": "code",
      "source": [],
      "metadata": {
        "id": "CHmvwvzg8sUr"
      },
      "execution_count": null,
      "outputs": []
    }
  ]
}